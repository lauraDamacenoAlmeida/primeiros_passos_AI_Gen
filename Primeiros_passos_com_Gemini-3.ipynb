{
  "nbformat": 4,
  "nbformat_minor": 0,
  "metadata": {
    "colab": {
      "provenance": []
    },
    "kernelspec": {
      "name": "python3",
      "display_name": "Python 3"
    },
    "language_info": {
      "name": "python"
    }
  },
  "cells": [
    {
      "cell_type": "markdown",
      "source": [
        "# Primeiros passos na API do Gemini"
      ],
      "metadata": {
        "id": "ythWxcU2iQcx"
      }
    },
    {
      "cell_type": "markdown",
      "source": [
        "Esse é o código que desenvolvemos juntos durante a aula da Sprint da Programaria! Neste primeiro passo, vamos nos conectar à API da Google (Gemini) e gerar uma história de um unicórnio no universo de Game of Thrones 🦄🐉.\n",
        "\n",
        "Ao longo do processo, também vamos explorar alguns parâmetros da IA para entender como eles influenciam na criação da história. Bora testar e se surpreender com as possibilidades?"
      ],
      "metadata": {
        "id": "nBzUTizqiS9J"
      }
    },
    {
      "cell_type": "markdown",
      "source": [
        "# Instalando a biblioteca do Gemini"
      ],
      "metadata": {
        "id": "QAGvBO9TxVz3"
      }
    },
    {
      "cell_type": "code",
      "execution_count": 1,
      "metadata": {
        "id": "pCjVy-_d12LR"
      },
      "outputs": [],
      "source": [
        "!pip install -q -U google-generativeai"
      ]
    },
    {
      "cell_type": "markdown",
      "source": [
        "# Importanto as bibliotecas\n",
        "\n"
      ],
      "metadata": {
        "id": "QRPTHAljxY71"
      }
    },
    {
      "cell_type": "code",
      "source": [
        "from google.colab import userdata\n",
        "import google.generativeai as genai\n"
      ],
      "metadata": {
        "id": "3uhK5QEI3GFd"
      },
      "execution_count": 2,
      "outputs": []
    },
    {
      "cell_type": "code",
      "source": [
        "API_KEY = userdata.get('SECRET_KEY2')"
      ],
      "metadata": {
        "id": "woRW1Kwo2N6k"
      },
      "execution_count": 7,
      "outputs": []
    },
    {
      "cell_type": "code",
      "source": [
        "\n",
        "genai.configure(api_key=API_KEY)"
      ],
      "metadata": {
        "id": "FkZbEDMW3J_2"
      },
      "execution_count": 8,
      "outputs": []
    },
    {
      "cell_type": "markdown",
      "source": [
        "# Verificando modelos de IA generativa"
      ],
      "metadata": {
        "id": "75uvPjc_xhmA"
      }
    },
    {
      "cell_type": "markdown",
      "source": [
        "Verificando quais modelos de IA Generativa estão disponíveis"
      ],
      "metadata": {
        "id": "IH8G7xFDxOIS"
      }
    },
    {
      "cell_type": "code",
      "source": [
        "for m in genai.list_models():\n",
        "  if 'generateContent' in m.supported_generation_methods:\n",
        "    print(m.name)"
      ],
      "metadata": {
        "colab": {
          "base_uri": "https://localhost:8080/",
          "height": 765
        },
        "id": "BJybPKBD3vNK",
        "outputId": "7a11c9a2-dcfe-4906-8763-8ce412893a24"
      },
      "execution_count": 9,
      "outputs": [
        {
          "output_type": "stream",
          "name": "stdout",
          "text": [
            "models/gemini-1.0-pro-vision-latest\n",
            "models/gemini-pro-vision\n",
            "models/gemini-1.5-pro-latest\n",
            "models/gemini-1.5-pro-002\n",
            "models/gemini-1.5-pro\n",
            "models/gemini-1.5-flash-latest\n",
            "models/gemini-1.5-flash\n",
            "models/gemini-1.5-flash-002\n",
            "models/gemini-1.5-flash-8b\n",
            "models/gemini-1.5-flash-8b-001\n",
            "models/gemini-1.5-flash-8b-latest\n",
            "models/gemini-2.5-pro-exp-03-25\n",
            "models/gemini-2.5-pro-preview-03-25\n",
            "models/gemini-2.5-flash-preview-04-17\n",
            "models/gemini-2.5-flash-preview-05-20\n",
            "models/gemini-2.5-flash\n",
            "models/gemini-2.5-flash-preview-04-17-thinking\n",
            "models/gemini-2.5-flash-lite-preview-06-17\n",
            "models/gemini-2.5-pro-preview-05-06\n",
            "models/gemini-2.5-pro-preview-06-05\n",
            "models/gemini-2.5-pro\n",
            "models/gemini-2.0-flash-exp\n",
            "models/gemini-2.0-flash\n",
            "models/gemini-2.0-flash-001\n",
            "models/gemini-2.0-flash-exp-image-generation\n",
            "models/gemini-2.0-flash-lite-001\n",
            "models/gemini-2.0-flash-lite\n",
            "models/gemini-2.0-flash-preview-image-generation\n",
            "models/gemini-2.0-flash-lite-preview-02-05\n",
            "models/gemini-2.0-flash-lite-preview\n",
            "models/gemini-2.0-pro-exp\n",
            "models/gemini-2.0-pro-exp-02-05\n",
            "models/gemini-exp-1206\n",
            "models/gemini-2.0-flash-thinking-exp-01-21\n",
            "models/gemini-2.0-flash-thinking-exp\n",
            "models/gemini-2.0-flash-thinking-exp-1219\n",
            "models/gemini-2.5-flash-preview-tts\n",
            "models/gemini-2.5-pro-preview-tts\n",
            "models/learnlm-2.0-flash-experimental\n",
            "models/gemma-3-1b-it\n",
            "models/gemma-3-4b-it\n",
            "models/gemma-3-12b-it\n",
            "models/gemma-3-27b-it\n",
            "models/gemma-3n-e4b-it\n"
          ]
        }
      ]
    },
    {
      "cell_type": "markdown",
      "source": [
        "# Geração de Conteúdo com Gemini"
      ],
      "metadata": {
        "id": "OX6kz7Xexnv6"
      }
    },
    {
      "cell_type": "markdown",
      "source": [
        "Agora chegamos no melhor momento de todos, testar a capacidade criativa das IAs Generativas."
      ],
      "metadata": {
        "id": "4k-oZMYeEWnL"
      }
    },
    {
      "cell_type": "code",
      "source": [
        "model = genai.GenerativeModel(\"gemini-1.5-flash\")\n",
        "response = model.generate_content(\"Escreva uma história em uma frase sobre um unicórnio no mundo de game of thrones\")\n",
        "print(response.text)"
      ],
      "metadata": {
        "colab": {
          "base_uri": "https://localhost:8080/",
          "height": 71
        },
        "id": "E3nhjEgI3e3r",
        "outputId": "803ebfef-4f61-473e-aa4d-b48bf2d3af0f"
      },
      "execution_count": 10,
      "outputs": [
        {
          "output_type": "stream",
          "name": "stdout",
          "text": [
            "Um unicórnio, seu chifre radiante cortando a escuridão gelada do Norte, encontrou uma aliança improvável com um Stark e um Lannister, seus poderes mágicos reunindo-os para desafiar o Rei da Noite e as hordas de mortos-vivos, enquanto a magia antiga e o conflito político se entrelaçavam em uma dança mortal por Westeros.\n",
            "\n"
          ]
        }
      ]
    },
    {
      "cell_type": "markdown",
      "source": [
        "Agora vamos ajustar e refirnar alguns pontos da IA usando os parâmetros que aprendemos na aula"
      ],
      "metadata": {
        "id": "0fSmhlGMD4si"
      }
    },
    {
      "cell_type": "code",
      "source": [
        "response = model.generate_content(\"Escreva uma história em uma frase sobre um unicórnio no mundo de game of thrones\",\n",
        "                                  generation_config={\"temperature\": 1.5,\"max_output_tokens\": 100},\n",
        "                                  safety_settings=[{\"category\":'HARM_CATEGORY_HATE_SPEECH','threshold':3}])\n",
        "print(response.text)"
      ],
      "metadata": {
        "id": "_X0RTh_94dgG",
        "colab": {
          "base_uri": "https://localhost:8080/",
          "height": 71
        },
        "outputId": "7b0b3e22-d435-46b1-85dd-78752c2f506d"
      },
      "execution_count": 14,
      "outputs": [
        {
          "output_type": "stream",
          "name": "stdout",
          "text": [
            "Em um reino devastado pela guerra, onde dragões incendiavam os céus e homens se matavam por poder, um unicórnio desgrenhado vagava pelos campos desolados de Westeros, sua pureza uma ironia sombria entre o derramamento de sangue incessante.\n",
            "\n"
          ]
        }
      ]
    },
    {
      "cell_type": "markdown",
      "source": [
        "Notaram a diferença entre essa saída e a anterior? Isso mostra como, ao ajustarmos os parâmetros da IA, conseguimos obter respostas diferentes. Cada ajuste pode influenciar diretamente o comportamento do modelo."
      ],
      "metadata": {
        "id": "2NwsrQYoD-Gd"
      }
    }
  ]
}