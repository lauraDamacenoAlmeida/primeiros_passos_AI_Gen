{
  "nbformat": 4,
  "nbformat_minor": 0,
  "metadata": {
    "colab": {
      "provenance": []
    },
    "kernelspec": {
      "name": "python3",
      "display_name": "Python 3"
    },
    "language_info": {
      "name": "python"
    }
  },
  "cells": [
    {
      "cell_type": "markdown",
      "source": [
        "# Primeiros passos com a API da Open AI"
      ],
      "metadata": {
        "id": "TBFUmoK6hfBR"
      }
    },
    {
      "cell_type": "markdown",
      "source": [
        "Esse é o código que desenvolvemos juntos durante a aula da Sprint da Programaria! Neste primeiro passo, vamos nos conectar à API da OpenAI e gerar uma história de um unicórnio no universo de Game of Thrones 🦄🐉.\n",
        "\n",
        "Ao longo do processo, também vamos explorar alguns parâmetros da IA para entender como eles influenciam na criação da história. Bora testar e se surpreender com as possibilidades?"
      ],
      "metadata": {
        "id": "xr4bvGXPhiqo"
      }
    },
    {
      "cell_type": "markdown",
      "source": [
        "# Instalando a biblioteca da Open AI"
      ],
      "metadata": {
        "id": "npR9gzu97FY9"
      }
    },
    {
      "cell_type": "code",
      "source": [
        "!pip install openai"
      ],
      "metadata": {
        "colab": {
          "base_uri": "https://localhost:8080/"
        },
        "id": "aM1e6VXUkugh",
        "outputId": "24514fb2-7b1b-4f86-8cd5-82685e1f3256"
      },
      "execution_count": 24,
      "outputs": [
        {
          "output_type": "stream",
          "name": "stdout",
          "text": [
            "Requirement already satisfied: openai in /usr/local/lib/python3.11/dist-packages (1.86.0)\n",
            "Requirement already satisfied: anyio<5,>=3.5.0 in /usr/local/lib/python3.11/dist-packages (from openai) (4.9.0)\n",
            "Requirement already satisfied: distro<2,>=1.7.0 in /usr/local/lib/python3.11/dist-packages (from openai) (1.9.0)\n",
            "Requirement already satisfied: httpx<1,>=0.23.0 in /usr/local/lib/python3.11/dist-packages (from openai) (0.28.1)\n",
            "Requirement already satisfied: jiter<1,>=0.4.0 in /usr/local/lib/python3.11/dist-packages (from openai) (0.10.0)\n",
            "Requirement already satisfied: pydantic<3,>=1.9.0 in /usr/local/lib/python3.11/dist-packages (from openai) (2.11.7)\n",
            "Requirement already satisfied: sniffio in /usr/local/lib/python3.11/dist-packages (from openai) (1.3.1)\n",
            "Requirement already satisfied: tqdm>4 in /usr/local/lib/python3.11/dist-packages (from openai) (4.67.1)\n",
            "Requirement already satisfied: typing-extensions<5,>=4.11 in /usr/local/lib/python3.11/dist-packages (from openai) (4.14.0)\n",
            "Requirement already satisfied: idna>=2.8 in /usr/local/lib/python3.11/dist-packages (from anyio<5,>=3.5.0->openai) (3.10)\n",
            "Requirement already satisfied: certifi in /usr/local/lib/python3.11/dist-packages (from httpx<1,>=0.23.0->openai) (2025.6.15)\n",
            "Requirement already satisfied: httpcore==1.* in /usr/local/lib/python3.11/dist-packages (from httpx<1,>=0.23.0->openai) (1.0.9)\n",
            "Requirement already satisfied: h11>=0.16 in /usr/local/lib/python3.11/dist-packages (from httpcore==1.*->httpx<1,>=0.23.0->openai) (0.16.0)\n",
            "Requirement already satisfied: annotated-types>=0.6.0 in /usr/local/lib/python3.11/dist-packages (from pydantic<3,>=1.9.0->openai) (0.7.0)\n",
            "Requirement already satisfied: pydantic-core==2.33.2 in /usr/local/lib/python3.11/dist-packages (from pydantic<3,>=1.9.0->openai) (2.33.2)\n",
            "Requirement already satisfied: typing-inspection>=0.4.0 in /usr/local/lib/python3.11/dist-packages (from pydantic<3,>=1.9.0->openai) (0.4.1)\n"
          ]
        }
      ]
    },
    {
      "cell_type": "markdown",
      "source": [
        "# Importanto as bibliotecas\n",
        "\n"
      ],
      "metadata": {
        "id": "IjjOMfIg7K_O"
      }
    },
    {
      "cell_type": "code",
      "source": [
        "from openai import OpenAI\n"
      ],
      "metadata": {
        "id": "wrBdDXUslSEC"
      },
      "execution_count": 25,
      "outputs": []
    },
    {
      "cell_type": "code",
      "source": [
        "from google.colab import userdata"
      ],
      "metadata": {
        "id": "mHLtXT4-mD7p"
      },
      "execution_count": 26,
      "outputs": []
    },
    {
      "cell_type": "markdown",
      "source": [
        "Colocando o valor da secret que foi gerado na plataforma da Open AI"
      ],
      "metadata": {
        "id": "QOnJV7-K7Mpj"
      }
    },
    {
      "cell_type": "code",
      "source": [
        "OPENAI_API_KEY= userdata.get('secret_open_ai')"
      ],
      "metadata": {
        "id": "dUfrS6KTlL24"
      },
      "execution_count": 27,
      "outputs": []
    },
    {
      "cell_type": "code",
      "source": [
        "client = OpenAI(api_key=OPENAI_API_KEY)"
      ],
      "metadata": {
        "id": "FQxrPyLjmU8F"
      },
      "execution_count": 28,
      "outputs": []
    },
    {
      "cell_type": "markdown",
      "source": [
        "# Geração de Conteúdo com a Open AI"
      ],
      "metadata": {
        "id": "qrC0zGsA7S_R"
      }
    },
    {
      "cell_type": "code",
      "execution_count": 29,
      "metadata": {
        "colab": {
          "base_uri": "https://localhost:8080/"
        },
        "id": "T0LHTxZnkPpO",
        "outputId": "15ea9d95-1bd1-40f9-c280-2571da3b06b4"
      },
      "outputs": [
        {
          "output_type": "stream",
          "name": "stdout",
          "text": [
            "Em meio à guerra pelo Trono de Ferro, um unicórnio prateado surge na Floresta Assombrada, trazendo esperança de magia antiga e paz a um reino devastado pelo fogo dos dragões e intrigas mortais.\n"
          ]
        }
      ],
      "source": [
        "\n",
        "response = client.responses.create(\n",
        "    model=\"gpt-4.1\",\n",
        "    input=\"Escreva uma história em uma frase sobre um unicórnio no mundo de game of thrones\"\n",
        ")\n",
        "\n",
        "print(response.output_text)"
      ]
    },
    {
      "cell_type": "markdown",
      "source": [
        "Agora vamos ajustar a chamada da API incluindo a personalidade/ comportamento que queremos que a IA assuma"
      ],
      "metadata": {
        "id": "uXUmwblnC_IA"
      }
    },
    {
      "cell_type": "code",
      "source": [
        "\n",
        "response = client.responses.create(\n",
        "    model=\"gpt-4.1\",\n",
        "    instructions=\"Escreva como um escritor super renomado e criativo. Que escreve história super envolventes como o George R.R Martin\",\n",
        "    input=\"Escreva uma história em uma frase sobre um unicórnio no mundo de game of thrones\")\n",
        "\n",
        "print(response.output_text)"
      ],
      "metadata": {
        "colab": {
          "base_uri": "https://localhost:8080/"
        },
        "id": "LBlHK__alsry",
        "outputId": "8ed7293f-0161-4c36-c87d-03ce6a5d3f0e"
      },
      "execution_count": 32,
      "outputs": [
        {
          "output_type": "stream",
          "name": "stdout",
          "text": [
            "No crepúsculo sangrento que banhava as campinas geladas além da Muralha, um unicórnio de chifre prateado relinchou versos antigos enquanto caminhava entre ossos de caminhantes brancos, prometendo um inverno onde nem mesmo a magia conheceu a esperança.\n"
          ]
        }
      ]
    },
    {
      "cell_type": "markdown",
      "source": [
        "Perceberam a diferença da saída depois que fizemos o ajuste? A IA ficou um pouco mais refinada e esse é o poder da engenharia de prompt"
      ],
      "metadata": {
        "id": "HOpGR4mxDFf5"
      }
    }
  ]
}